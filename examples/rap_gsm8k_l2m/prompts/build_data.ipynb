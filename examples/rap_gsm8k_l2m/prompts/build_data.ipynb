{
 "cells": [
  {
   "cell_type": "code",
   "execution_count": 38,
   "metadata": {},
   "outputs": [],
   "source": [
    "# now the decomposition prompt is done"
   ]
  },
  {
   "cell_type": "code",
   "execution_count": 39,
   "metadata": {},
   "outputs": [],
   "source": [
    "with open(\"examples/rap_gsm8k_l2m/prompts/decomposition.txt\") as f:\n",
    "    data = f.read()"
   ]
  },
  {
   "cell_type": "code",
   "execution_count": 31,
   "metadata": {},
   "outputs": [],
   "source": [
    "cases = [d.split(\"\\n\") for d in data.split(\"\\n\\n\")]"
   ]
  },
  {
   "cell_type": "code",
   "execution_count": 32,
   "metadata": {},
   "outputs": [],
   "source": [
    "processed_data = []"
   ]
  },
  {
   "cell_type": "code",
   "execution_count": 33,
   "metadata": {},
   "outputs": [],
   "source": [
    "st = \"\"\n",
    "for c in cases:\n",
    "    st += c[0][3:] + \"\\n\\n\"\n",
    "    \n",
    "    sub = c[1].split(\"need to know: \")[-1].split(\",\")\n",
    "    final = c[1].split(\"To answer the question \\\"\")[-1].split(\"\\\", we need to\")[0]\n",
    "    for s in sub + [\" \" + final + \" \"]:\n",
    "        s = s[1:-1]\n",
    "        if s.startswith(\"\\\"\"):\n",
    "            s = s[1:]\n",
    "        if s.endswith(\"\\\"\"):\n",
    "            s = s[:-1]\n",
    "        st += \"Q: \" + s + \"\\nA: The answer is .\"+\"\\n\\n\""
   ]
  },
  {
   "cell_type": "code",
   "execution_count": 34,
   "metadata": {},
   "outputs": [],
   "source": [
    "with open(\"examples/rap_gsm8k_l2m/prompts/solving.txt\", \"w\") as f:\n",
    "    f.write(st)"
   ]
  },
  {
   "cell_type": "code",
   "execution_count": null,
   "metadata": {},
   "outputs": [],
   "source": [
    "# after labeling `solving.txt`\n",
    "# build the final file"
   ]
  },
  {
   "cell_type": "code",
   "execution_count": 42,
   "metadata": {},
   "outputs": [],
   "source": [
    "with open(\"examples/rap_gsm8k_l2m/prompts/solving.txt\") as f:\n",
    "    solving_data = f.read()"
   ]
  },
  {
   "cell_type": "code",
   "execution_count": 37,
   "metadata": {},
   "outputs": [],
   "source": [
    "import json\n",
    "\n",
    "original = json.load(open(\"examples/rap_gsm8k_l2m/prompts/l2m.json\"))"
   ]
  },
  {
   "cell_type": "code",
   "execution_count": 52,
   "metadata": {},
   "outputs": [],
   "source": [
    "revised = original\n",
    "decomposition_pool = [\n",
    "    d.strip() + \"\\n\\n\" for d in data.split(\"\\n\\n\")\n",
    "]"
   ]
  },
  {
   "cell_type": "code",
   "execution_count": 55,
   "metadata": {},
   "outputs": [],
   "source": [
    "solving_pool = []\n",
    "\n",
    "cache = \"\"\n",
    "for d in solving_data.split(\"\\n\\n\"):\n",
    "    d = d.strip()\n",
    "    if d == \"\":\n",
    "        continue\n",
    "    if not d.startswith(\"Q:\"):\n",
    "        if cache != \"\":\n",
    "            solving_pool.append(cache)\n",
    "        cache = d.strip() + \"\\n\\n\"\n",
    "    else:\n",
    "        cache += d.strip() + \"\\n\\n\"\n",
    "solving_pool.append(cache)"
   ]
  },
  {
   "cell_type": "code",
   "execution_count": 56,
   "metadata": {},
   "outputs": [
    {
     "data": {
      "text/plain": [
       "['Natalia sold clips to 48 of her friends in April, and then she sold half as many clips in May. How many clips did Natalia sell altogether in April and May?\\n\\nQ: How many clips did Natalia sell in May?\\nA: Natalia sold 48 clips in April and half as many clips in May, so she sold 48 / 2 = 24 clips in May. The answer is 24.\\n\\nQ: How many clips did Natalia sell altogether in April and May?\\nA: Natalia sold 48 clips in April and 24 clips in May, so altogether she sold 48 + 24 = 72 clips. The answer is 72.\\n\\n',\n",
       " 'Weng earns $12 an hour for babysitting. Yesterday, she just did 50 minutes of babysitting. How much did she earn?\\n\\nQ: How much does Weng earn per minute?\\nA: Since Weng earns $12 an hour for babysitting, she earns $12 / 60 = $0.2 per minute. The answer is 0.2.\\n\\nQ: How much did she earn?\\nA: Working 50 minutes, she earned $0.2 x 50 = $10. The answer is 10.\\n\\n',\n",
       " \"Betty is saving money for a new wallet which costs $100. Betty has only half of the money she needs. Her parents decided to give her $15 for that purpose, and her grandparents twice as much as her parents. How much more money does Betty need to buy the wallet?\\n\\nQ: How much money does Betty have in the beginning?\\nA: In the beginning, Betty has only half of the money she needs, which is 100 / 2 = $50. The answer is 50.\\n\\nQ: How much money did Betty's grandparents give her?\\nA: Her grandparents gave her twice as much as her parents, so they gave her 15 * 2 = $30. The answer is 30.\\n\\nQ: How much more money does Betty need to buy the wallet?\\nA: Now that she got $15 from her parents and $30 from her grandparents, she will need $100 - $15 - $30 = $55. Since she already has $50, she needs $55 - $50 = $5 more. The answer is 5.\\n\\n\",\n",
       " 'Julie is reading a 120-page book. Yesterday, she was able to read 12 pages and today, she read twice as many pages as yesterday. If she wants to read half of the remaining pages tomorrow, how many pages should she read?\\n\\nQ: How many pages did Julie read today?\\nA: Julie read twice as many pages as yesterday, so she read 12 * 2 = 24 pages The answer is 24.\\n\\nQ: How many pages did Julie read since yesterday?\\nA: Since yesterday, Julie read 12 + 24 = 36 pages. The answer is 36.\\n\\nQ: How many pages are left to be read?\\nA: There are 120 - 36 = 84 pages left to be read. The answer is 84.\\n\\nQ: How many pages should she read?\\nA: She wants to read half of the remaining pages, so she should read 84 / 2 = 42 pages. The answer is 42.\\n\\n',\n",
       " 'James writes a 3-page letter to 2 different friends twice a week. How many pages does he write a year?\\n\\nQ: How many pages does he write every week?\\nA: James writes a 3-page letter to 2 different friends twice a week, so he writes 3 * 2 * 2 = 12 pages every week. The answer is 12.\\n\\nQ: How many weeks are there in a year?\\nA: There are 52 weeks in a year. The answer is 52.\\n\\nQ: How many pages does he write a year?\\nA: James writes 12 pages every week, so he writes 12 * 52 = 624 pages a year. The answer is 624.\\n\\n',\n",
       " 'Mark has a garden with flowers. He planted plants of three different colors in it. Ten of them are yellow, and there are 80% more of those in purple. There are only 25% as many green flowers as there are yellow and purple flowers. How many flowers does Mark have in his garden?\\n\\nQ: How many purple flowers are there?\\nA: There are 80% more purple flowers than yellow flowers, so there are 10 * 1.8 = 18 purple flowers. The answer is 18.\\n\\nQ: How many yellow and purple flowers are there in total?\\nA: There are 10 yellow flowers and 18 purple flowers, so there are 10 + 18 = 28 yellow and purple flowers. The answer is 28.\\n\\nQ: How many green flowers are there?\\nA: There are 25% as many green flowers as there are yellow and purple flowers, so there are 28 * 0.25 = 7 green flowers. The answer is 7.\\n\\nQ: How many flowers does Mark have in his garden?\\nA: Mark has 10 yellow flowers, 18 purple flowers, and 7 green flowers, so he has 10 + 18 + 7 = 35 flowers in his garden. The answer is 35.\\n\\n',\n",
       " 'Albert is wondering how much pizza he can eat in one day. He buys 2 large pizzas and 2 small pizzas. A large pizza has 16 slices and a small pizza has 8 slices. If he eats it all, how many pieces does he eat that day?\\n\\nQ: How many slices do the large pizzas have?\\nA: He buys 2 large pizzas, so he has 2 * 16 = 32 slices. The answer is 32.\\n\\nQ: How many slices do the small pizzas have?\\nA: He buys 2 small pizzas, so he has 2 * 8 = 16 slices. The answer is 16.\\n\\nQ: How many pieces does he eat that day?\\nA: There are 32 slices from the large pizzas and 16 slices from the small pizzas, so he eats 32 + 16 = 48 pieces that day. The answer is 48.\\n\\n',\n",
       " 'Ken created a care package to send to his brother, who was away at boarding school. Ken placed a box on a scale, and then he poured into the box enough jelly beans to bring the weight to 2 pounds. Then, he added enough brownies to cause the weight to triple. Next, he added another 2 pounds of jelly beans. And finally, he added enough gummy worms to double the weight once again. What was the final weight of the box of goodies, in pounds?\\n\\nQ: What was the weight of the box after Ken poured jelly beans for the first time?\\nA: Ken poured jelly beans into the box until the weight was 2 pounds, so the weight of the box was 2 pounds. The answer is 2.\\n\\nQ: What was the weight of the box after Ken added brownies?\\nA: Ken aadded enough brownies to cause the weight to triple, so the weight of the box was 2 * 3 = 6 pounds. The answer is 6.\\n\\nQ: What was the weight of the box after Ken added jelly beans for the second time?\\nA: He added another 2 pounds of jelly beans, which means the weight of the box was 6 + 2 = 8 pounds. The answer is 8.\\n\\nQ: What was the final weight of the box of goodies, in pounds?\\nA: Finally, he added enough gummy worms to double the weight once again, so the weight of the box was 8 * 2 = 16 pounds. The answer is 16.\\n\\n',\n",
       " 'Alexis is applying for a new job and bought a new set of business clothes to wear to the interview. She went to a department store with a budget of $200 and spent $30 on a button-up shirt, $46 on suit pants, $38 on a suit coat, $11 on socks, and $18 on a belt. She also purchased a pair of shoes, but lost the receipt for them. She has $16 left from her budget. How much did Alexis pay for the shoes?\\n\\nQ: How much did Alexis pay for everything else?\\nA: Alexis spent $30 on a button-up shirt, $46 on suit pants, $38 on a suit coat, $11 on socks, and $18 on a belt, so she spent 30 + 46 + 38 + 11 + 18 = $143 on everything else. The answer is 143.\\n\\nQ: How much money did Alexis spend in total?\\nA: Alexis had a budget of $200 and finally there was $16 left, so she spent 200 - 16 = $184 in total. The answer is 184.\\n\\nQ: How much did Alexis pay for the shoes?\\nA: Alexis spent $143 on everything else, so she spent 184 - 143 = $41 on the shoes. The answer is 41.\\n\\n',\n",
       " 'Tina makes $18.00 an hour. If she works more than 8 hours per shift, she is eligible for overtime, which is paid by your hourly wage + 1/2 your hourly wage. If she works 10 hours every day for 5 days, how much money does she make?\\n\\nQ: How much does Tina make in an 8-hour shift?\\nA: Tina makes $18.00 an hour, so she makes 18 * 8 = $144.00 in an 8-hour shift. The answer is 144.\\n\\nQ: How many hours of overtime does Tina get?\\nA: Tina works 10 hours every day for 5 days, so she works 10 * 5 = 50 hours. Since she works 8 hours every day, she gets 50 - 8 * 5 = 10 hours of overtime. The answer is 10.\\n\\nQ: How much is her hourly overtime wage?\\nA: Her hourly overtime wage is 18 + 18 / 2 = $27.00. The answer is 27.\\n\\nQ: How much does Tina make in overtime each day?\\nA: Tina works 10 hours a day, and 8 hours of that is paid at her regular hourly wage, so she makes 10 - 8 = 2 hours of overtime every day. Since her hourly overtime wage is $27.00, she makes 27 * 2 = $54.00 in overtime each day. The answer is 54.\\n\\nQ: How much does Tina make each day?\\nA: Tina makes $144.00 in an 8-hour shift and $54.00 in overtime, so she makes 144 + 54 = $198.00 each day. The answer is 198.\\n\\nQ: How much money does she make?\\nA: Tina works 5 days a week, so she makes 198 * 5 = $990.00. The answer is 990.\\n\\n']"
      ]
     },
     "execution_count": 56,
     "metadata": {},
     "output_type": "execute_result"
    }
   ],
   "source": [
    "solving_pool"
   ]
  },
  {
   "cell_type": "code",
   "execution_count": 41,
   "metadata": {},
   "outputs": [
    {
     "data": {
      "text/plain": [
       "['Q: Natalia sold clips to 48 of her friends in April, and then she sold half as many clips in May. How many clips did Natalia sell altogether in April and May?\\nA: To answer the question \"How many clips did Natalia sell altogether in April and May?\", we need to know: \"How many clips did Natalia sell in May?\".\\n\\n',\n",
       " 'Q: Weng earns $12 an hour for babysitting. Yesterday, she just did 50 minutes of babysitting. How much did she earn?\\nA: To answer the question \"How much did she earn?\", we need to know: \"How much does Weng earn per minute?\".\\n\\n',\n",
       " 'Q: Betty is saving money for a new wallet which costs $100. Betty has only half of the money she needs. Her parents decided to give her $15 for that purpose, and her grandparents twice as much as her parents. How much more money does Betty need to buy the wallet?\\nA: To answer the question \"How much more money does Betty need to buy the wallet?\", we need to know: \"How much money does Betty have in the beginning?\", \"How much money did Betty\\'s grandparents give her?\".\\n\\n',\n",
       " 'Q: Julie is reading a 120-page book. Yesterday, she was able to read 12 pages and today, she read twice as many pages as yesterday. If she wants to read half of the remaining pages tomorrow, how many pages should she read?\\nA: To answer the question \"How many pages should she read?\", we need to know: \"How many pages did Julie read today?\", \"How many pages did Julie read since yesterday?\", \"How many pages are left to be read?\".\\n\\n',\n",
       " 'Q: James writes a 3-page letter to 2 different friends twice a week. How many pages does he write a year?\\nA: To answer the question \"How many pages does he write a year?\", we need to know: \"How many pages in total does he write every week?\", \"How many weeks are there in a year?\".\\n\\n',\n",
       " 'Q: Mark has a garden with flowers. He planted plants of three different colors in it. Ten of them are yellow, and there are 80% more of those in purple. There are only 25% as many green flowers as there are yellow and purple flowers. How many flowers does Mark have in his garden?\\nA: To answer the question \"How many flowers does Mark have in his garden?\", we need to know: \"How many purple flowers are there?\", \"How many yellow and purple flowers are there in total?\", \"How many green flowers are there?\".\\n\\n',\n",
       " 'Q: Albert is wondering how much pizza he can eat in one day. He buys 2 large pizzas and 2 small pizzas. A large pizza has 16 slices and a small pizza has 8 slices. If he eats it all, how many pieces does he eat that day?\\nA: To answer the question \"How many pieces does he eat that day?\", we need to know: \"How many slices do the large pizzas have?\", \"How many slices do the small pizzas have?\".\\n\\n',\n",
       " 'Q: Ken created a care package to send to his brother, who was away at boarding school. Ken placed a box on a scale, and then he poured into the box enough jelly beans to bring the weight to 2 pounds. Then, he added enough brownies to cause the weight to triple. Next, he added another 2 pounds of jelly beans. And finally, he added enough gummy worms to double the weight once again. What was the final weight of the box of goodies, in pounds?\\nA: To answer the question \"What was the final weight of the box of goodies, in pounds?\", we need to know: \"What was the weight of the box after Ken poured jelly beans for the first time?\", \"What was the weight of the box after Ken added brownies?\", \"What was the weight of the box after Ken added jelly beans for the second time?\".\\n\\n',\n",
       " 'Q: Alexis is applying for a new job and bought a new set of business clothes to wear to the interview. She went to a department store with a budget of $200 and spent $30 on a button-up shirt, $46 on suit pants, $38 on a suit coat, $11 on socks, and $18 on a belt. She also purchased a pair of shoes, but lost the receipt for them. She has $16 left from her budget. How much did Alexis pay for the shoes?\\nA: To answer the question \"How much did Alexis pay for the shoes?\", we need to know: \"How much did Alexis pay for everything else?\", \"How much money did Alexis spend in total?\".\\n\\n',\n",
       " 'Q: Tina makes $18.00 an hour. If she works more than 8 hours per shift, she is eligible for overtime, which is paid by your hourly wage + 1/2 your hourly wage. If she works 10 hours every day for 5 days, how much money does she make?\\nA: To answer the question \"How much money does she make?\", we need to know: \"How much does Tina make in an 8-hour shift?\", \"How many hours of overtime does Tina get?\", \"How much is her hourly overtime wage?\", \"How much does Tina make in overtime each day?\", \"How much does Tina make each day?\".\\n\\n']"
      ]
     },
     "execution_count": 41,
     "metadata": {},
     "output_type": "execute_result"
    }
   ],
   "source": [
    "decomposition_pool"
   ]
  },
  {
   "cell_type": "code",
   "execution_count": 54,
   "metadata": {},
   "outputs": [],
   "source": [
    "revised[\"solving_pool\"] = solving_pool\n",
    "revised[\"decomposition_pool\"] = decomposition_pool\n",
    "with open(\"examples/rap_gsm8k_l2m/prompts/l2m_standard.json\", \"w\") as f:\n",
    "    json.dump(revised, f, indent=4)"
   ]
  },
  {
   "cell_type": "code",
   "execution_count": null,
   "metadata": {},
   "outputs": [],
   "source": []
  }
 ],
 "metadata": {
  "kernelspec": {
   "display_name": "default",
   "language": "python",
   "name": "python3"
  },
  "language_info": {
   "codemirror_mode": {
    "name": "ipython",
    "version": 3
   },
   "file_extension": ".py",
   "mimetype": "text/x-python",
   "name": "python",
   "nbconvert_exporter": "python",
   "pygments_lexer": "ipython3",
   "version": "3.10.6"
  },
  "orig_nbformat": 4
 },
 "nbformat": 4,
 "nbformat_minor": 2
}
