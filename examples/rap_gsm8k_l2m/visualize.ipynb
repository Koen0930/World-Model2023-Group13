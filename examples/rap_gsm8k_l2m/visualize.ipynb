{
 "cells": [
  {
   "cell_type": "code",
   "execution_count": 2,
   "metadata": {
    "ExecuteTime": {
     "end_time": "2023-07-26T17:40:28.577480Z",
     "start_time": "2023-07-26T17:40:28.524400Z"
    }
   },
   "outputs": [],
   "source": [
    "import pickle"
   ]
  },
  {
   "cell_type": "code",
   "execution_count": 3,
   "metadata": {
    "ExecuteTime": {
     "end_time": "2023-07-26T17:40:29.773085Z",
     "start_time": "2023-07-26T17:40:28.531132Z"
    }
   },
   "outputs": [],
   "source": [
    "# add path\n",
    "import sys\n",
    "sys.path.append('..')\n",
    "import os\n",
    "# print(os.cwd())"
   ]
  },
  {
   "cell_type": "code",
   "execution_count": 4,
   "metadata": {},
   "outputs": [],
   "source": [
    "from reasoners.visualization import visualize"
   ]
  },
  {
   "cell_type": "code",
   "execution_count": 5,
   "metadata": {
    "ExecuteTime": {
     "end_time": "2023-07-26T17:44:32.732062Z",
     "start_time": "2023-07-26T17:44:32.477654Z"
    }
   },
   "outputs": [],
   "source": [
    "from reasoners.visualization.tree_snapshot import NodeData\n",
    "from reasoners.algorithm.mcts import MCTSNode"
   ]
  },
  {
   "cell_type": "code",
   "execution_count": 6,
   "metadata": {},
   "outputs": [],
   "source": [
    "mcts_result = pickle.load(open('logs/gsm8k_MCTS/09132023-154939/algo_output/1.pkl', 'rb'))"
   ]
  },
  {
   "cell_type": "code",
   "execution_count": 7,
   "metadata": {},
   "outputs": [],
   "source": [
    "mcts_result.terminal_state"
   ]
  },
  {
   "cell_type": "code",
   "execution_count": 8,
   "metadata": {},
   "outputs": [],
   "source": [
    "def gsm_node_data_factory(x: MCTSNode):\n",
    "    if not x.state:\n",
    "        return {}\n",
    "    return {\"question\": x.state[-1].sub_question, \"answer\": x.state[-1].sub_answer}"
   ]
  },
  {
   "cell_type": "code",
   "execution_count": 9,
   "metadata": {},
   "outputs": [
    {
     "name": "stdout",
     "output_type": "stream",
     "text": [
      "Visualizer URL: https://www.llm-reasoners.net/visualizer/99c67895-1fbc-443e-bf29-91c21896f510?accessKey=222f5646\n"
     ]
    }
   ],
   "source": [
    "visualize(mcts_result, node_data_factory=gsm_node_data_factory)"
   ]
  },
  {
   "cell_type": "code",
   "execution_count": null,
   "metadata": {},
   "outputs": [],
   "source": []
  }
 ],
 "metadata": {
  "kernelspec": {
   "display_name": "rap",
   "language": "python",
   "name": "python3"
  },
  "language_info": {
   "codemirror_mode": {
    "name": "ipython",
    "version": 3
   },
   "file_extension": ".py",
   "mimetype": "text/x-python",
   "name": "python",
   "nbconvert_exporter": "python",
   "pygments_lexer": "ipython3",
   "version": "3.10.6"
  },
  "orig_nbformat": 4
 },
 "nbformat": 4,
 "nbformat_minor": 2
}
